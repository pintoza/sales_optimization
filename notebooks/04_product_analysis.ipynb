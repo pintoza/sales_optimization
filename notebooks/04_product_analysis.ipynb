{
 "cells": [
  {
   "cell_type": "code",
   "execution_count": 1,
   "id": "1ace7944",
   "metadata": {},
   "outputs": [],
   "source": [
    "import pandas as pd\n",
    "import numpy as np\n",
    "import matplotlib.pyplot as plt\n",
    "import seaborn as sns"
   ]
  },
  {
   "cell_type": "code",
   "execution_count": 2,
   "id": "e835361d",
   "metadata": {},
   "outputs": [
    {
     "data": {
      "text/html": [
       "<div>\n",
       "<style scoped>\n",
       "    .dataframe tbody tr th:only-of-type {\n",
       "        vertical-align: middle;\n",
       "    }\n",
       "\n",
       "    .dataframe tbody tr th {\n",
       "        vertical-align: top;\n",
       "    }\n",
       "\n",
       "    .dataframe thead th {\n",
       "        text-align: right;\n",
       "    }\n",
       "</style>\n",
       "<table border=\"1\" class=\"dataframe\">\n",
       "  <thead>\n",
       "    <tr style=\"text-align: right;\">\n",
       "      <th></th>\n",
       "      <th>order_number</th>\n",
       "      <th>sales_channel</th>\n",
       "      <th>warehouse_code</th>\n",
       "      <th>procured_date</th>\n",
       "      <th>order_date</th>\n",
       "      <th>ship_date</th>\n",
       "      <th>delivery_date</th>\n",
       "      <th>sales_team_id</th>\n",
       "      <th>customer_id</th>\n",
       "      <th>store_id</th>\n",
       "      <th>product_id</th>\n",
       "      <th>order_quantity</th>\n",
       "      <th>discount_applied</th>\n",
       "      <th>unit_cost</th>\n",
       "      <th>unit_price</th>\n",
       "    </tr>\n",
       "  </thead>\n",
       "  <tbody>\n",
       "    <tr>\n",
       "      <th>0</th>\n",
       "      <td>101</td>\n",
       "      <td>In-Store</td>\n",
       "      <td>4</td>\n",
       "      <td>2017-12-31</td>\n",
       "      <td>2018-05-31</td>\n",
       "      <td>2018-06-14</td>\n",
       "      <td>2018-06-19</td>\n",
       "      <td>6</td>\n",
       "      <td>15</td>\n",
       "      <td>259</td>\n",
       "      <td>12</td>\n",
       "      <td>5</td>\n",
       "      <td>0.075</td>\n",
       "      <td>1001</td>\n",
       "      <td>1963</td>\n",
       "    </tr>\n",
       "    <tr>\n",
       "      <th>1</th>\n",
       "      <td>102</td>\n",
       "      <td>Online</td>\n",
       "      <td>3</td>\n",
       "      <td>2017-12-31</td>\n",
       "      <td>2018-05-31</td>\n",
       "      <td>2018-06-22</td>\n",
       "      <td>2018-07-02</td>\n",
       "      <td>14</td>\n",
       "      <td>20</td>\n",
       "      <td>196</td>\n",
       "      <td>27</td>\n",
       "      <td>3</td>\n",
       "      <td>0.075</td>\n",
       "      <td>3349</td>\n",
       "      <td>3940</td>\n",
       "    </tr>\n",
       "    <tr>\n",
       "      <th>2</th>\n",
       "      <td>103</td>\n",
       "      <td>Distributor</td>\n",
       "      <td>4</td>\n",
       "      <td>2017-12-31</td>\n",
       "      <td>2018-05-31</td>\n",
       "      <td>2018-06-21</td>\n",
       "      <td>2018-07-01</td>\n",
       "      <td>21</td>\n",
       "      <td>16</td>\n",
       "      <td>213</td>\n",
       "      <td>16</td>\n",
       "      <td>1</td>\n",
       "      <td>0.050</td>\n",
       "      <td>781</td>\n",
       "      <td>1776</td>\n",
       "    </tr>\n",
       "    <tr>\n",
       "      <th>3</th>\n",
       "      <td>104</td>\n",
       "      <td>Wholesale</td>\n",
       "      <td>3</td>\n",
       "      <td>2017-12-31</td>\n",
       "      <td>2018-05-31</td>\n",
       "      <td>2018-06-02</td>\n",
       "      <td>2018-06-07</td>\n",
       "      <td>28</td>\n",
       "      <td>48</td>\n",
       "      <td>107</td>\n",
       "      <td>23</td>\n",
       "      <td>8</td>\n",
       "      <td>0.075</td>\n",
       "      <td>1465</td>\n",
       "      <td>2325</td>\n",
       "    </tr>\n",
       "    <tr>\n",
       "      <th>4</th>\n",
       "      <td>105</td>\n",
       "      <td>Distributor</td>\n",
       "      <td>3</td>\n",
       "      <td>2018-04-10</td>\n",
       "      <td>2018-05-31</td>\n",
       "      <td>2018-06-16</td>\n",
       "      <td>2018-06-26</td>\n",
       "      <td>22</td>\n",
       "      <td>49</td>\n",
       "      <td>111</td>\n",
       "      <td>26</td>\n",
       "      <td>8</td>\n",
       "      <td>0.100</td>\n",
       "      <td>1476</td>\n",
       "      <td>1822</td>\n",
       "    </tr>\n",
       "  </tbody>\n",
       "</table>\n",
       "</div>"
      ],
      "text/plain": [
       "   order_number sales_channel  warehouse_code procured_date  order_date  \\\n",
       "0           101      In-Store               4    2017-12-31  2018-05-31   \n",
       "1           102        Online               3    2017-12-31  2018-05-31   \n",
       "2           103   Distributor               4    2017-12-31  2018-05-31   \n",
       "3           104     Wholesale               3    2017-12-31  2018-05-31   \n",
       "4           105   Distributor               3    2018-04-10  2018-05-31   \n",
       "\n",
       "    ship_date delivery_date  sales_team_id  customer_id  store_id  product_id  \\\n",
       "0  2018-06-14    2018-06-19              6           15       259          12   \n",
       "1  2018-06-22    2018-07-02             14           20       196          27   \n",
       "2  2018-06-21    2018-07-01             21           16       213          16   \n",
       "3  2018-06-02    2018-06-07             28           48       107          23   \n",
       "4  2018-06-16    2018-06-26             22           49       111          26   \n",
       "\n",
       "   order_quantity  discount_applied  unit_cost  unit_price  \n",
       "0               5             0.075       1001        1963  \n",
       "1               3             0.075       3349        3940  \n",
       "2               1             0.050        781        1776  \n",
       "3               8             0.075       1465        2325  \n",
       "4               8             0.100       1476        1822  "
      ]
     },
     "execution_count": 2,
     "metadata": {},
     "output_type": "execute_result"
    }
   ],
   "source": [
    "df = pd.read_csv('/Users/pintoza/Desktop/dev/data-science/sales_optimization/data/processed/df_processed.csv')\n",
    "\n",
    "df.head()"
   ]
  },
  {
   "cell_type": "code",
   "execution_count": 8,
   "id": "d2065754",
   "metadata": {},
   "outputs": [
    {
     "name": "stdout",
     "output_type": "stream",
     "text": [
      "count    7991.000000\n",
      "mean        4.525341\n",
      "std         2.312631\n",
      "min         1.000000\n",
      "25%         3.000000\n",
      "50%         5.000000\n",
      "75%         7.000000\n",
      "max         8.000000\n",
      "Name: order_quantity, dtype: float64\n"
     ]
    },
    {
     "data": {
      "image/png": "[encoded data removed]",
      "text/plain": [
       "<Figure size 1200x600 with 1 Axes>"
      ]
     },
     "metadata": {},
     "output_type": "display_data"
    }
   ],
   "source": [
    "# Calculate metrics\n",
    "sales_volume_summary = df['order_quantity'].describe()\n",
    "print(sales_volume_summary)\n",
    "\n",
    "# Generate Boxplot for Sales Volume\n",
    "plt.figure(figsize=(12, 6))\n",
    "sns.boxplot(df['order_quantity'])\n",
    "plt.title('Summary Boxplot of Sales Volume Across Products')\n",
    "plt.xlabel('Sales Volume')\n",
    "plt.savefig('/Users/pintoza/Desktop/dev/data-science/sales_optimization/reports/product_analysis/sales_volume_summary.png')\n",
    "plt.show()\n",
    "\n",
    "# Metrics: Mean, Median, Standard Deviation of Sales Volume"
   ]
  },
  {
   "cell_type": "code",
   "execution_count": 9,
   "id": "776f9aa1",
   "metadata": {},
   "outputs": [
    {
     "name": "stdout",
     "output_type": "stream",
     "text": [
      "count    7991.000000\n",
      "mean     2284.534226\n",
      "std      1673.090573\n",
      "min       168.000000\n",
      "25%      1032.000000\n",
      "50%      1849.000000\n",
      "75%      3611.000000\n",
      "max      6566.000000\n",
      "Name: unit_price, dtype: float64\n"
     ]
    },
    {
     "data": {
      "image/png": "[encoded data removed]",
      "text/plain": [
       "<Figure size 1200x600 with 1 Axes>"
      ]
     },
     "metadata": {},
     "output_type": "display_data"
    }
   ],
   "source": [
    "# Calculate metrics\n",
    "avg_price_summary = df['unit_price'].describe()\n",
    "print(avg_price_summary)\n",
    "\n",
    "# Generate Boxplot for Average Price\n",
    "plt.figure(figsize=(12, 6))\n",
    "sns.boxplot(df['unit_price'])\n",
    "plt.title('Summary Boxplot of Average Price Across Products')\n",
    "plt.xlabel('Average Price')\n",
    "plt.savefig('/Users/pintoza/Desktop/dev/data-science/sales_optimization/reports/product_analysis/avg_price_summary.png')\n",
    "plt.show()\n",
    "\n",
    "# Metrics: Mean, Median, Standard Deviation of Average Price"
   ]
  },
  {
   "cell_type": "code",
   "execution_count": 10,
   "id": "569c7a80",
   "metadata": {},
   "outputs": [
    {
     "name": "stdout",
     "output_type": "stream",
     "text": [
      "count    7991.000000\n",
      "mean        0.373702\n",
      "std         0.132261\n",
      "min         0.149038\n",
      "25%         0.260013\n",
      "50%         0.370000\n",
      "75%         0.489906\n",
      "max         0.602210\n",
      "Name: profit_margin, dtype: float64\n"
     ]
    },
    {
     "data": {
      "image/png": "[encoded data removed]",
      "text/plain": [
       "<Figure size 1200x600 with 1 Axes>"
      ]
     },
     "metadata": {},
     "output_type": "display_data"
    }
   ],
   "source": [
    "# Calculate metrics\n",
    "df['profit_margin'] = (df['unit_price'] - df['unit_cost']) / df['unit_price']\n",
    "profit_margin_summary = df['profit_margin'].describe()\n",
    "print(profit_margin_summary)\n",
    "\n",
    "# Generate Boxplot for Profit Margin\n",
    "plt.figure(figsize=(12, 6))\n",
    "sns.boxplot(df['profit_margin'])\n",
    "plt.title('Summary Boxplot of Profit Margin Across Products')\n",
    "plt.xlabel('Profit Margin')\n",
    "plt.savefig('/Users/pintoza/Desktop/dev/data-science/sales_optimization/reports/product_analysis/profit_margin_summary.png')\n",
    "plt.show()\n",
    "\n",
    "# Metrics: Mean, Median, Standard Deviation of Profit Margin\n"
   ]
  },
  {
   "cell_type": "code",
   "execution_count": 11,
   "id": "78c309f1",
   "metadata": {},
   "outputs": [],
   "source": [
    "from reportlab.lib.pagesizes import letter, landscape\n",
    "from reportlab.lib import colors\n",
    "from reportlab.lib.pagesizes import letter\n",
    "from reportlab.platypus import SimpleDocTemplate, Table, TableStyle, Paragraph, Image\n",
    "from reportlab.lib.styles import getSampleStyleSheet\n",
    "\n",
    "# Create a PDF file\n",
    "pdf = SimpleDocTemplate(\n",
    "    \"/Users/pintoza/Desktop/dev/data-science/sales_optimization/reports/insights/Product_Analysis_Insights.pdf\",\n",
    "    pagesize=letter\n",
    ")\n",
    "\n",
    "# Set the styles\n",
    "styles = getSampleStyleSheet()\n",
    "styleN = styles[\"BodyText\"]\n",
    "\n",
    "# Add Title\n",
    "elements = []\n",
    "elements.append(Paragraph(\"Product Analysis Insights\", styles[\"Heading1\"]))\n",
    "\n",
    "# Insert insights text\n",
    "insights_text = \"\"\"\n",
    "1. Average Volume across product line: <br/>\n",
    "   - Volumes are generally normally distributed<br/>\n",
    "   \n",
    "<br/>\n",
    "\n",
    "2. Average Price across product line: <br/>\n",
    "   - Prices are slightly right skewed, with a fairly wide range of prices, with most products leaning on the cheaper end of the range<br/>\n",
    "\n",
    "<br/>\n",
    "\n",
    "3. Average Profit Margin across product line: <br/>\n",
    "   - Profit margins varies widely, although it is quite normally distributed across the product line <br/>\n",
    "   \n",
    "\"\"\"\n",
    "elements.append(Paragraph(insights_text, styleN))\n",
    "\n",
    "# Insert Images (Your charts saved as PNG files)\n",
    "img_path1 = \"/Users/pintoza/Desktop/dev/data-science/sales_optimization/reports/product_analysis/sales_volume_summary.png\"\n",
    "img1 = Image(img_path1, width=200, height=200)\n",
    "elements.append(img1)\n",
    "\n",
    "img_path2 = \"/Users/pintoza/Desktop/dev/data-science/sales_optimization/reports/product_analysis/avg_price_summary.png\"\n",
    "img2 = Image(img_path2, width=200, height=200)\n",
    "elements.append(img2)\n",
    "\n",
    "img_path3 = \"/Users/pintoza/Desktop/dev/data-science/sales_optimization/reports/product_analysis/profit_margin_summary.png\"\n",
    "img3 = Image(img_path3, width=200, height=200)\n",
    "elements.append(img3)\n",
    "\n",
    "# Generate PDF\n",
    "pdf.build(elements)"
   ]
  }
 ],
 "metadata": {
  "kernelspec": {
   "display_name": "Python 3 (ipykernel)",
   "language": "python",
   "name": "python3"
  },
  "language_info": {
   "codemirror_mode": {
    "name": "ipython",
    "version": 3
   },
   "file_extension": ".py",
   "mimetype": "text/x-python",
   "name": "python",
   "nbconvert_exporter": "python",
   "pygments_lexer": "ipython3",
   "version": "3.8.18"
  }
 },
 "nbformat": 4,
 "nbformat_minor": 5
}
